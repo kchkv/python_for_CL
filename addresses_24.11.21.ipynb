{
 "cells": [
  {
   "cell_type": "code",
   "execution_count": 7,
   "metadata": {},
   "outputs": [],
   "source": [
    "# сделать из текста строки\n",
    "text = ''' Nordstrom Rack and HauteLook\n",
    "Nordstrom Rack is the off-price retail division of Nordstrom Inc., which was founded in 1901 in Seattle, Washington, by John W. Nordstrom.\n",
    "\n",
    "Nordstrom encourages contact from its customers and has supplied contact details to us.\n",
    "\n",
    "700 S. Flower Street\n",
    "Suite 1700\n",
    "Los Angeles, CA 90017\n",
    "https://www.nordstromrack.com/\n",
    "\n",
    "Phone Contacts\n",
    "Main: (206) 628-2111\n",
    "Customer Service: (888)966-6283\n",
    "International: (319) 846-4140\n",
    "\n",
    "Nordstrom Customer Service: (888)282-6060\n",
    "\n",
    " \n",
    "\n",
    "Email Contacts\n",
    "Contact@nordstrom.com\n",
    "\n",
    "Social Media Contacts\n",
    "Facebook\n",
    "Twitter\n",
    "\n",
    "Executive Contacts\n",
    "Primary Contact\n",
    "Andrew Breen\n",
    "Director Customer Care\n",
    "700 S. Flower Street\n",
    "Suite 1700\n",
    "Los Angeles, CA 90017\n",
    "Andrew.Breen@HauteLook.com\n",
    "\n",
    "Secondary Contact\n",
    "James F. Nordstrom\n",
    "Executive Vice President and President of Nordstrom Stores\n",
    "1600 Seventh Avenue\n",
    "Suite 2600\n",
    "Seattle, WA 98101\n",
    "Jamie.nordstrom@nordstrom.com\n",
    "\n",
    "Geevy Thomas\n",
    "President of Nordstrom Rack\n",
    "1600 Seventh Avenue\n",
    "Suite 2600\n",
    "Seattle, WA 98101\n",
    "Geevy.Thomas@nordstrom.com\n",
    "\n",
    "Chief Executive\n",
    "See Notes Below\n",
    "700 S. Flower Street\n",
    "Suite 1700\n",
    "Los Angeles, CA 90017\n",
    "\n",
    "Erik B. Nordstrom\n",
    "Co-President\n",
    "erik.nordstrom@nordstrom.com\n",
    "\n",
    "Peter E. Nordstrom\n",
    "Co-President\n",
    "Pete.Nordstrom@nordstrom.com '''\n",
    "\n",
    "\n",
    "\n",
    "\n"
   ]
  },
  {
   "cell_type": "code",
   "execution_count": 18,
   "metadata": {},
   "outputs": [
    {
     "name": "stdout",
     "output_type": "stream",
     "text": [
      "['Contact@nordstrom.com', 'Andrew.Breen@HauteLook.com', 'Jamie.nordstrom@nordstrom.com', 'Geevy.Thomas@nordstrom.com', 'erik.nordstrom@nordstrom.com', 'Pete.Nordstrom@nordstrom.com']\n"
     ]
    }
   ],
   "source": [
    "import re\n",
    "\n",
    "pat = re.findall(r'([\\w0-9-._]+@[\\w0-9-.]+[\\w0-9]{2,3})', text)\n",
    "\n",
    "print(pat)\n"
   ]
  },
  {
   "cell_type": "code",
   "execution_count": 219,
   "metadata": {},
   "outputs": [
    {
     "name": "stdout",
     "output_type": "stream",
     "text": [
      "[('700', 'S. Flower Street\\nSuite 1700\\nLos Angeles', 'CA', '90017'), ('700', 'S. Flower Street\\nSuite 1700\\nLos Angeles', 'CA', '90017'), ('1600', 'Seventh Avenue\\nSuite 2600\\nSeattle', 'WA', '98101'), ('1600', 'Seventh Avenue\\nSuite 2600\\nSeattle', 'WA', '98101'), ('700', 'S. Flower Street\\nSuite 1700\\nLos Angeles', 'CA', '90017')]\n"
     ]
    }
   ],
   "source": [
    "import re\n",
    "\n",
    "pat = re.findall(r'^(\\d+) ([^,]+), ([A-Z]{2}) (\\d{5})', text,re.M)\n",
    "\n",
    "print(pat)"
   ]
  }
 ],
 "metadata": {
  "kernelspec": {
   "display_name": "Python 3",
   "language": "python",
   "name": "python3"
  },
  "language_info": {
   "codemirror_mode": {
    "name": "ipython",
    "version": 3
   },
   "file_extension": ".py",
   "mimetype": "text/x-python",
   "name": "python",
   "nbconvert_exporter": "python",
   "pygments_lexer": "ipython3",
   "version": "3.8.8"
  }
 },
 "nbformat": 4,
 "nbformat_minor": 4
}
