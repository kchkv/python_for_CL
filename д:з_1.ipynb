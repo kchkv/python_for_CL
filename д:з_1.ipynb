{
 "cells": [
  {
   "cell_type": "code",
   "execution_count": 172,
   "metadata": {},
   "outputs": [
    {
     "ename": "ValueError",
     "evalue": "could not convert string to float: ''",
     "output_type": "error",
     "traceback": [
      "\u001b[0;31m---------------------------------------------------------------------------\u001b[0m",
      "\u001b[0;31mValueError\u001b[0m                                Traceback (most recent call last)",
      "\u001b[0;32m<ipython-input-172-2a121e1be848>\u001b[0m in \u001b[0;36m<module>\u001b[0;34m\u001b[0m\n\u001b[1;32m      1\u001b[0m \u001b[0;31m# определитель усталости\u001b[0m\u001b[0;34m\u001b[0m\u001b[0;34m\u001b[0m\u001b[0;34m\u001b[0m\u001b[0m\n\u001b[1;32m      2\u001b[0m \u001b[0;34m\u001b[0m\u001b[0m\n\u001b[0;32m----> 3\u001b[0;31m \u001b[0ma\u001b[0m \u001b[0;34m=\u001b[0m \u001b[0mfloat\u001b[0m\u001b[0;34m(\u001b[0m\u001b[0minput\u001b[0m\u001b[0;34m(\u001b[0m\u001b[0;34m'по шкале от 0 до 10, напишите, насколько Вы устали: '\u001b[0m\u001b[0;34m)\u001b[0m\u001b[0;34m)\u001b[0m\u001b[0;34m\u001b[0m\u001b[0;34m\u001b[0m\u001b[0m\n\u001b[0m\u001b[1;32m      4\u001b[0m \u001b[0;32mif\u001b[0m \u001b[0ma\u001b[0m \u001b[0;34m<\u001b[0m \u001b[0;36m0.7\u001b[0m\u001b[0;34m:\u001b[0m\u001b[0;34m\u001b[0m\u001b[0;34m\u001b[0m\u001b[0m\n\u001b[1;32m      5\u001b[0m         \u001b[0mprint\u001b[0m\u001b[0;34m(\u001b[0m\u001b[0;34m'Кажется, Вы совсем не устали'\u001b[0m\u001b[0;34m)\u001b[0m\u001b[0;34m\u001b[0m\u001b[0;34m\u001b[0m\u001b[0m\n",
      "\u001b[0;31mValueError\u001b[0m: could not convert string to float: ''"
     ]
    }
   ],
   "source": [
    "# определитель усталости\n",
    "\n",
    "a = float(input('по шкале от 0 до 10, напишите, насколько Вы устали: '))\n",
    "if a < 0.7:\n",
    "    print('Кажется, Вы совсем не устали')\n",
    "elif 0.7 <= a <= 4.8:\n",
    "    print('Вы немного устали')\n"
   ]
  },
  {
   "cell_type": "code",
   "execution_count": null,
   "metadata": {},
   "outputs": [
    {
     "name": "stdout",
     "output_type": "stream",
     "text": [
      "[['мартини', 'грейпфрутовый сок', 'жасмин', 'тоник', 'лосось'], ['клубника', 'какао', 'мята', 'марсала'], ['водка', 'томатный сок', 'лимонный сок', 'вустерширский соус', 'черный перец', 'сельдерей', 'лосось'], ['джин', 'вермут', 'ликер мараскино', 'апельсины', 'коктейльная вишня', 'лосось'], ['ром', 'авокадо', 'сахарный сироп', 'сливки', 'лимонный сок', 'лед'], ['красный вермут', 'тоник', 'апельсины', 'лосось'], ['только чай']]\n"
     ]
    }
   ],
   "source": [
    "import random\n",
    "\n",
    "cocktails = [\n",
    "    [\"мартини\",\"грейпфрутовый сок\",\"жасмин\",\"тоник\",\"лосось\"],\n",
    "    [\"клубника\",\"какао\",\"мята\",\"марсала\"],\n",
    "    [\"водка\",\"томатный сок\",\"лимонный сок\",\"вустерширский соус\",\"черный перец\",\"сельдерей\",\"лосось\"],\n",
    "    [\"джин\",\"вермут\",\"ликер мараскино\",\"апельсины\",\"коктейльная вишня\",\"лосось\"],\n",
    "    [\"ром\",\"авокадо\",\"сахарный сироп\",\"сливки\",\"лимонный сок\",\"лед\"],\n",
    "    [\"красный вермут\",\"тоник\",\"апельсины\",\"лосось\"],\n",
    "    [\"только чай\"]\n",
    "    ]\n",
    "\n",
    "del_list = ['лосось']\n",
    "res = [i for i in cocktails if i != del_list]\n",
    "print(res)\n",
    "\n",
    "\n",
    "\n",
    "\n",
    "\n",
    "#r_item = \"лосось\"\n",
    "\n",
    "#for item in cocktails: \n",
    "    #if(item==r_item): \n",
    "        #cocktails.remove(r_item) \n",
    "\n",
    "#print(cocktails)\n",
    "\n",
    "\n",
    "\n",
    "\n",
    "\n",
    "#for sub_cocktails in cocktails:\n",
    "    #for string in sub_cocktails:\n",
    "        #if \"лосось\" in string:\n",
    "            #print('yes')\n",
    "\n",
    "\n",
    "\n",
    "\n",
    "#def nested_remove(cocktails, x):\n",
    "    #if x in cocktails:\n",
    "        #cocktails.remove(x)\n",
    "    #else:\n",
    "        #for element in cocktails:\n",
    "            #if type(element) is list:\n",
    "                #nested_remove(element, x)\n",
    "                #nested_remove(cocktails, 'лосось')\n",
    "#print(cocktails)\n",
    "\n",
    "\n",
    "\n",
    "\n",
    "#from nltk import flatten\n",
    "\n",
    "#flattened_list = flatten(cocktails)\n",
    "#print(flattened_list)\n",
    "\n",
    "\n",
    "\n",
    "\n",
    "#text1 = '\\n'.join(' '.join(map(str, x)) for x in cocktails)\n",
    "#print(\" \".join(cocktails))\n",
    "#new_cocktails = [e for e in cocktails if e[0]!='мартини']\n",
    "    #print('new_cocktails')\n"
   ]
  },
  {
   "cell_type": "code",
   "execution_count": null,
   "metadata": {},
   "outputs": [
    {
     "name": "stdout",
     "output_type": "stream",
     "text": [
      "['мартини', 'грейпфрутовый сок', 'жасмин', 'тоник', 'клубника', 'какао', 'мята', 'марсала', 'водка', 'томатный сок', 'лимонный сок', 'вустерширский соус', 'черный перец', 'сельдерей', 'лосось', 'джин', 'вермут', 'ликер мараскино', 'апельсины', 'коктейльная вишня', 'лосось', 'ром', 'авокадо', 'сахарный сироп', 'сливки', 'лимонный сок', 'лед', 'красный вермут', 'тоник', 'апельсины', 'лосось', 'только чай']\n",
      "['мартини', 'грейпфрутовый сок', 'жасмин', 'тоник', 'клубника', 'какао', 'мята', 'марсала', 'водка', 'томатный сок', 'лимонный сок', 'вустерширский соус', 'черный перец', 'сельдерей', 'джин', 'вермут', 'ликер мараскино', 'апельсины', 'коктейльная вишня', 'лосось', 'ром', 'авокадо', 'сахарный сироп', 'сливки', 'лимонный сок', 'лед', 'красный вермут', 'тоник', 'апельсины', 'лосось', 'только чай']\n",
      "['мартини', 'грейпфрутовый сок', 'жасмин', 'тоник', 'клубника', 'какао', 'мята', 'марсала', 'водка', 'томатный сок', 'лимонный сок', 'вустерширский соус', 'черный перец', 'сельдерей', 'джин', 'вермут', 'ликер мараскино', 'апельсины', 'коктейльная вишня', 'ром', 'авокадо', 'сахарный сироп', 'сливки', 'лимонный сок', 'лед', 'красный вермут', 'тоник', 'апельсины', 'лосось', 'только чай']\n",
      "['мартини', 'грейпфрутовый сок', 'жасмин', 'тоник', 'клубника', 'какао', 'мята', 'марсала', 'водка', 'томатный сок', 'лимонный сок', 'вустерширский соус', 'черный перец', 'сельдерей', 'джин', 'вермут', 'ликер мараскино', 'апельсины', 'коктейльная вишня', 'ром', 'авокадо', 'сахарный сироп', 'сливки', 'лимонный сок', 'лед', 'красный вермут', 'тоник', 'апельсины', 'только чай']\n"
     ]
    }
   ],
   "source": [
    "cocktails = ['мартини', 'грейпфрутовый сок', 'жасмин', 'тоник', 'лосось', 'клубника', 'какао', 'мята', 'марсала', 'водка', 'томатный сок', 'лимонный сок', 'вустерширский соус', 'черный перец', 'сельдерей', 'лосось', 'джин', 'вермут', 'ликер мараскино', 'апельсины', 'коктейльная вишня', 'лосось', 'ром', 'авокадо', 'сахарный сироп', 'сливки', 'лимонный сок', 'лед', 'красный вермут', 'тоник', 'апельсины', 'лосось', 'только чай']\n",
    "r_item = 'лосось'\n",
    "for item in cocktails:\n",
    "    if(item==r_item):\n",
    "        cocktails.remove(r_item)\n",
    "\n",
    "        print(cocktails)\n",
    "\n",
    "        \n",
    "#i = cocktails.index('лосось')\n",
    "#removed_item = cocktails.pop(i)\n",
    "#print(cocktails)\n",
    "\n"
   ]
  },
  {
   "cell_type": "code",
   "execution_count": null,
   "metadata": {},
   "outputs": [],
   "source": [
    "#postcards = {\n",
    "    #\"Maria\":\"London\",\n",
    "    #\"Lorenzo\":\"Milan\",\n",
    "    #\"Oleg\":\"Canberra\",\n",
    "    #\"Hans\":\"Calgary\",\n",
    "    #\"Mark\":\"Milan\",\n",
    "    #\"Alex\":\"Krakow\",\n",
    "    #\"Julia\":\"Murmansk\"}\n",
    "\n",
    "#postcards['Petra'] = 'Paris'\n",
    "#postcards['Ivan'] = 'Moscow'\n",
    "#print(postcards)\n",
    "\n",
    "#postcards1 = {\n",
    "    #'Maria': 'London', \n",
    "    #'Lorenzo': 'Milan', \n",
    "    #'Oleg': 'Canberra', \n",
    "    #'Hans': 'Calgary', \n",
    "    #'Mark': 'Milan', \n",
    "    #'Alex': 'Krakow', \n",
    "    #'Julia': 'Murmansk', \n",
    "    #'Petra': 'Paris', \n",
    "    #'Ivan': 'Moscow'}\n",
    "#postcards.update(postcards1)\n",
    "#print(postcards1)\n",
    "\n",
    "#postcards1['Oleg'] = 'Sidney'\n",
    "#print(postcards1)\n",
    "\n",
    "\n",
    "\n",
    "#for value in postcards1.values():\n",
    "    #print(value)\n",
    "    \n"
   ]
  }
 ],
 "metadata": {
  "interpreter": {
   "hash": "2584292d777de5035d7c379c4e7c3bf6a5010b8e968d3cc6a248fb0518b53ab8"
  },
  "kernelspec": {
   "display_name": "Python 3.8.8 64-bit ('base': conda)",
   "language": "python",
   "name": "python3"
  },
  "language_info": {
   "codemirror_mode": {
    "name": "ipython",
    "version": 3
   },
   "file_extension": ".py",
   "mimetype": "text/x-python",
   "name": "python",
   "nbconvert_exporter": "python",
   "pygments_lexer": "ipython3",
   "version": "3.8.8"
  },
  "orig_nbformat": 4
 },
 "nbformat": 4,
 "nbformat_minor": 2
}
